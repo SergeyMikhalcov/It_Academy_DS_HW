{
 "cells": [
  {
   "cell_type": "code",
   "execution_count": 99,
   "metadata": {
    "collapsed": true,
    "pycharm": {
     "name": "#%%\n"
    }
   },
   "outputs": [],
   "source": [
    "import pandas as pd\n",
    "import numpy as np\n",
    "import matplotlib.pyplot as plt\n",
    "import seaborn as sns"
   ]
  },
  {
   "cell_type": "markdown",
   "metadata": {},
   "source": [
    "### Задание\n",
    "#### Итак, папка descriptive_statistics.\n",
    "#### Внутри увидите пустой Jupyter Notebook и файл clients.csv В файле предоставленна информация о клиентах риэлторской компании США за один месяц. Вам необходимо как специалисту по Дата Сайнс сделать следующее:\n",
    "#### Используя данные о выборке, постройте типичный портрет целевого клиента компании (пол, возраст, какой тип квартиры он приобретает, какова площадь в кв. м , каков средний чек, цель покупки,источник лида (погуглите что такое лид в маркетинге, за это отвечает колонка Source).\n",
    "#### Таким образом после вашего анализа, я хочу увидеть небольшое описание нашего целевого клиента с соответствующими визуализациями, что мы прошли с вами на лекции."
   ]
  },
  {
   "cell_type": "code",
   "execution_count": 79,
   "metadata": {},
   "outputs": [],
   "source": [
    "clients_df = pd.read_csv(r\"clients.csv\")"
   ]
  },
  {
   "cell_type": "code",
   "execution_count": 80,
   "metadata": {},
   "outputs": [
    {
     "data": {
      "text/html": [
       "<div>\n",
       "<style scoped>\n",
       "    .dataframe tbody tr th:only-of-type {\n",
       "        vertical-align: middle;\n",
       "    }\n",
       "\n",
       "    .dataframe tbody tr th {\n",
       "        vertical-align: top;\n",
       "    }\n",
       "\n",
       "    .dataframe thead th {\n",
       "        text-align: right;\n",
       "    }\n",
       "</style>\n",
       "<table border=\"1\" class=\"dataframe\">\n",
       "  <thead>\n",
       "    <tr style=\"text-align: right;\">\n",
       "      <th></th>\n",
       "      <th>ID</th>\n",
       "      <th>Building</th>\n",
       "      <th>Year of sale</th>\n",
       "      <th>Month of sale</th>\n",
       "      <th>Type of property</th>\n",
       "      <th>Property number</th>\n",
       "      <th>Area (ft.)</th>\n",
       "      <th>Price</th>\n",
       "      <th>Status</th>\n",
       "      <th>Customer ID</th>\n",
       "      <th>...</th>\n",
       "      <th>Y</th>\n",
       "      <th>M</th>\n",
       "      <th>D</th>\n",
       "      <th>Gender</th>\n",
       "      <th>Country</th>\n",
       "      <th>State</th>\n",
       "      <th>Purpose</th>\n",
       "      <th>Deal satisfaction</th>\n",
       "      <th>Mortgage</th>\n",
       "      <th>Source</th>\n",
       "    </tr>\n",
       "  </thead>\n",
       "  <tbody>\n",
       "    <tr>\n",
       "      <th>0</th>\n",
       "      <td>1030</td>\n",
       "      <td>1</td>\n",
       "      <td>2005</td>\n",
       "      <td>11</td>\n",
       "      <td>Apartment</td>\n",
       "      <td>30</td>\n",
       "      <td>743.09</td>\n",
       "      <td>$ 246,172.68</td>\n",
       "      <td>Sold</td>\n",
       "      <td>C0028</td>\n",
       "      <td>...</td>\n",
       "      <td>1986.0</td>\n",
       "      <td>6.0</td>\n",
       "      <td>21.0</td>\n",
       "      <td>F</td>\n",
       "      <td>USA</td>\n",
       "      <td>California</td>\n",
       "      <td>Home</td>\n",
       "      <td>5</td>\n",
       "      <td>No</td>\n",
       "      <td>Website</td>\n",
       "    </tr>\n",
       "    <tr>\n",
       "      <th>1</th>\n",
       "      <td>1029</td>\n",
       "      <td>1</td>\n",
       "      <td>2005</td>\n",
       "      <td>10</td>\n",
       "      <td>Apartment</td>\n",
       "      <td>29</td>\n",
       "      <td>756.21</td>\n",
       "      <td>$ 246,331.90</td>\n",
       "      <td>Sold</td>\n",
       "      <td>C0027</td>\n",
       "      <td>...</td>\n",
       "      <td>1983.0</td>\n",
       "      <td>2.0</td>\n",
       "      <td>24.0</td>\n",
       "      <td>F</td>\n",
       "      <td>USA</td>\n",
       "      <td>California</td>\n",
       "      <td>Home</td>\n",
       "      <td>5</td>\n",
       "      <td>No</td>\n",
       "      <td>Website</td>\n",
       "    </tr>\n",
       "    <tr>\n",
       "      <th>2</th>\n",
       "      <td>2002</td>\n",
       "      <td>2</td>\n",
       "      <td>2007</td>\n",
       "      <td>7</td>\n",
       "      <td>Apartment</td>\n",
       "      <td>2</td>\n",
       "      <td>587.28</td>\n",
       "      <td>$ 209,280.91</td>\n",
       "      <td>Sold</td>\n",
       "      <td>C0112</td>\n",
       "      <td>...</td>\n",
       "      <td>1985.0</td>\n",
       "      <td>12.0</td>\n",
       "      <td>27.0</td>\n",
       "      <td>M</td>\n",
       "      <td>USA</td>\n",
       "      <td>California</td>\n",
       "      <td>Home</td>\n",
       "      <td>1</td>\n",
       "      <td>Yes</td>\n",
       "      <td>Client</td>\n",
       "    </tr>\n",
       "    <tr>\n",
       "      <th>3</th>\n",
       "      <td>2031</td>\n",
       "      <td>2</td>\n",
       "      <td>2007</td>\n",
       "      <td>12</td>\n",
       "      <td>Apartment</td>\n",
       "      <td>31</td>\n",
       "      <td>1604.75</td>\n",
       "      <td>$ 452,667.01</td>\n",
       "      <td>Sold</td>\n",
       "      <td>C0160</td>\n",
       "      <td>...</td>\n",
       "      <td>1985.0</td>\n",
       "      <td>12.0</td>\n",
       "      <td>27.0</td>\n",
       "      <td>M</td>\n",
       "      <td>USA</td>\n",
       "      <td>California</td>\n",
       "      <td>Investment</td>\n",
       "      <td>3</td>\n",
       "      <td>Yes</td>\n",
       "      <td>Website</td>\n",
       "    </tr>\n",
       "    <tr>\n",
       "      <th>4</th>\n",
       "      <td>1049</td>\n",
       "      <td>1</td>\n",
       "      <td>2004</td>\n",
       "      <td>11</td>\n",
       "      <td>Apartment</td>\n",
       "      <td>49</td>\n",
       "      <td>1375.45</td>\n",
       "      <td>$ 467,083.31</td>\n",
       "      <td>Sold</td>\n",
       "      <td>C0014</td>\n",
       "      <td>...</td>\n",
       "      <td>1979.0</td>\n",
       "      <td>5.0</td>\n",
       "      <td>15.0</td>\n",
       "      <td>F</td>\n",
       "      <td>USA</td>\n",
       "      <td>California</td>\n",
       "      <td>Home</td>\n",
       "      <td>4</td>\n",
       "      <td>No</td>\n",
       "      <td>Agency</td>\n",
       "    </tr>\n",
       "  </tbody>\n",
       "</table>\n",
       "<p>5 rows × 25 columns</p>\n",
       "</div>"
      ],
      "text/plain": [
       "     ID  Building  Year of sale  Month of sale Type of property  \\\n",
       "0  1030         1          2005             11        Apartment   \n",
       "1  1029         1          2005             10        Apartment   \n",
       "2  2002         2          2007              7        Apartment   \n",
       "3  2031         2          2007             12        Apartment   \n",
       "4  1049         1          2004             11        Apartment   \n",
       "\n",
       "   Property number  Area (ft.)           Price  Status Customer ID  ...  \\\n",
       "0               30      743.09   $ 246,172.68    Sold        C0028  ...   \n",
       "1               29      756.21   $ 246,331.90    Sold        C0027  ...   \n",
       "2                2      587.28   $ 209,280.91    Sold        C0112  ...   \n",
       "3               31     1604.75   $ 452,667.01    Sold        C0160  ...   \n",
       "4               49     1375.45   $ 467,083.31    Sold        C0014  ...   \n",
       "\n",
       "        Y     M     D  Gender Country       State     Purpose  \\\n",
       "0  1986.0   6.0  21.0       F     USA  California        Home   \n",
       "1  1983.0   2.0  24.0       F     USA  California        Home   \n",
       "2  1985.0  12.0  27.0       M     USA  California        Home   \n",
       "3  1985.0  12.0  27.0       M     USA  California  Investment   \n",
       "4  1979.0   5.0  15.0       F     USA  California        Home   \n",
       "\n",
       "   Deal satisfaction Mortgage   Source  \n",
       "0                  5       No  Website  \n",
       "1                  5       No  Website  \n",
       "2                  1      Yes   Client  \n",
       "3                  3      Yes  Website  \n",
       "4                  4       No   Agency  \n",
       "\n",
       "[5 rows x 25 columns]"
      ]
     },
     "execution_count": 80,
     "metadata": {},
     "output_type": "execute_result"
    }
   ],
   "source": [
    "clients_df.head()"
   ]
  },
  {
   "cell_type": "code",
   "execution_count": 182,
   "metadata": {},
   "outputs": [
    {
     "name": "stderr",
     "output_type": "stream",
     "text": [
      "<ipython-input-182-85dfbc247dac>:1: FutureWarning: The default value of regex will change from True to False in a future version. In addition, single character regular expressions will *not* be treated as literal strings when regex=True.\n",
      "  clients_df['Price'] = clients_df['Price'].str.replace(\"$\", \"\")\n"
     ]
    }
   ],
   "source": [
    "clients_df['Price'] = clients_df['Price'].str.replace(\"$\", \"\")\n",
    "clients_df['Price'] = clients_df['Price'].str.replace(\",\", \"\").astype(float)"
   ]
  },
  {
   "cell_type": "code",
   "execution_count": 184,
   "metadata": {},
   "outputs": [
    {
     "name": "stdout",
     "output_type": "stream",
     "text": [
      "<class 'pandas.core.frame.DataFrame'>\n",
      "RangeIndex: 195 entries, 0 to 194\n",
      "Data columns (total 25 columns):\n",
      " #   Column                   Non-Null Count  Dtype  \n",
      "---  ------                   --------------  -----  \n",
      " 0   ID                       195 non-null    int64  \n",
      " 1   Building                 195 non-null    int64  \n",
      " 2   Year of sale             195 non-null    int64  \n",
      " 3   Month of sale            195 non-null    int64  \n",
      " 4   Type of property         195 non-null    object \n",
      " 5   Property number          195 non-null    int64  \n",
      " 6   Area (ft.)               195 non-null    float64\n",
      " 7   Price                    195 non-null    float64\n",
      " 8   Status                   195 non-null    object \n",
      " 9   Customer ID              195 non-null    object \n",
      " 10  Entity                   195 non-null    object \n",
      " 11  Name                     195 non-null    object \n",
      " 12  Surname                  195 non-null    object \n",
      " 13  Age at time of purchase  178 non-null    float64\n",
      " 14  Age Interval             178 non-null    object \n",
      " 15  Y                        178 non-null    float64\n",
      " 16  M                        178 non-null    float64\n",
      " 17  D                        178 non-null    float64\n",
      " 18  Gender                   178 non-null    object \n",
      " 19  Country                  195 non-null    object \n",
      " 20  State                    181 non-null    object \n",
      " 21  Purpose                  195 non-null    object \n",
      " 22  Deal satisfaction        195 non-null    int64  \n",
      " 23  Mortgage                 195 non-null    object \n",
      " 24  Source                   195 non-null    object \n",
      "dtypes: float64(6), int64(6), object(13)\n",
      "memory usage: 38.2+ KB\n"
     ]
    }
   ],
   "source": [
    "clients_df.info()"
   ]
  },
  {
   "cell_type": "code",
   "execution_count": 185,
   "metadata": {},
   "outputs": [
    {
     "data": {
      "text/plain": [
       "Index(['ID', 'Building', 'Year of sale', 'Month of sale', 'Type of property',\n",
       "       'Property number', 'Area (ft.)', 'Price', 'Status', 'Customer ID',\n",
       "       'Entity', 'Name', 'Surname', 'Age at time of purchase', 'Age Interval ',\n",
       "       'Y', 'M', 'D', 'Gender', 'Country', 'State', 'Purpose',\n",
       "       'Deal satisfaction', 'Mortgage', 'Source'],\n",
       "      dtype='object')"
      ]
     },
     "execution_count": 185,
     "metadata": {},
     "output_type": "execute_result"
    }
   ],
   "source": [
    "clients_df.columns"
   ]
  },
  {
   "cell_type": "code",
   "execution_count": 186,
   "metadata": {},
   "outputs": [],
   "source": [
    "firm_customer = clients_df[clients_df[\"Entity\"]=='Firm']\n",
    "ind_customer = clients_df[clients_df[\"Entity\"]=='Individual']"
   ]
  },
  {
   "cell_type": "code",
   "execution_count": 187,
   "metadata": {},
   "outputs": [],
   "source": [
    "columns_of_interest = ['Price', 'Area (ft.)', 'Age at time of purchase','Type of property',  'Gender', 'Country', 'State', 'Purpose', 'Mortgage', 'Source']\n",
    "target_df = ind_customer[columns_of_interest]"
   ]
  },
  {
   "cell_type": "code",
   "execution_count": 188,
   "metadata": {},
   "outputs": [
    {
     "name": "stdout",
     "output_type": "stream",
     "text": [
      "<class 'pandas.core.frame.DataFrame'>\n",
      "Int64Index: 178 entries, 0 to 177\n",
      "Data columns (total 10 columns):\n",
      " #   Column                   Non-Null Count  Dtype  \n",
      "---  ------                   --------------  -----  \n",
      " 0   Price                    178 non-null    float64\n",
      " 1   Area (ft.)               178 non-null    float64\n",
      " 2   Age at time of purchase  178 non-null    float64\n",
      " 3   Type of property         178 non-null    object \n",
      " 4   Gender                   178 non-null    object \n",
      " 5   Country                  178 non-null    object \n",
      " 6   State                    164 non-null    object \n",
      " 7   Purpose                  178 non-null    object \n",
      " 8   Mortgage                 178 non-null    object \n",
      " 9   Source                   178 non-null    object \n",
      "dtypes: float64(3), object(7)\n",
      "memory usage: 15.3+ KB\n"
     ]
    }
   ],
   "source": [
    "target_df.info()"
   ]
  },
  {
   "cell_type": "code",
   "execution_count": 189,
   "metadata": {},
   "outputs": [],
   "source": [
    "def clean_country(x):\n",
    "    if x == \"USA \":\n",
    "        return \"USA\"\n",
    "    return x"
   ]
  },
  {
   "cell_type": "code",
   "execution_count": 190,
   "metadata": {},
   "outputs": [
    {
     "name": "stderr",
     "output_type": "stream",
     "text": [
      "<ipython-input-190-26520580d56d>:1: SettingWithCopyWarning: \n",
      "A value is trying to be set on a copy of a slice from a DataFrame.\n",
      "Try using .loc[row_indexer,col_indexer] = value instead\n",
      "\n",
      "See the caveats in the documentation: https://pandas.pydata.org/pandas-docs/stable/user_guide/indexing.html#returning-a-view-versus-a-copy\n",
      "  target_df[\"Country\"] = target_df[\"Country\"].apply(clean_country)\n"
     ]
    }
   ],
   "source": [
    "target_df[\"Country\"] = target_df[\"Country\"].apply(clean_country)"
   ]
  },
  {
   "cell_type": "code",
   "execution_count": 191,
   "metadata": {},
   "outputs": [],
   "source": [
    "def clean_price(x):\n",
    "    if x.endswith(\" $\"):\n",
    "        return x[-2].astype(np.float16)\n",
    "    "
   ]
  },
  {
   "cell_type": "code",
   "execution_count": 192,
   "metadata": {},
   "outputs": [
    {
     "data": {
      "image/png": "[encoded data removed]",
      "text/plain": [
       "<Figure size 864x864 with 12 Axes>"
      ]
     },
     "metadata": {
      "needs_background": "light"
     },
     "output_type": "display_data"
    }
   ],
   "source": [
    "ncols = 3 if len(columns_of_interest)>=3 else len(columns_of_interest)\n",
    "nrows = len(columns_of_interest) // ncols + (1 if len(columns_of_interest) % ncols else 0)\n",
    "\n",
    "fig, axs = plt.subplots(nrows=nrows, ncols=ncols, figsize = (12,12), constrained_layout=True)\n",
    "axes = axs.flat\n",
    "for i, col in enumerate(columns_of_interest):\n",
    "    if target_df[col].dtype == 'object' or target_df[col].dtype == 'string':\n",
    "        target_df[col].value_counts().plot.bar(ax = axes[i])\n",
    "    else:\n",
    "        target_df[col].plot.hist(ax = axes[i])\n",
    "    axes[i].set_title(col)"
   ]
  },
  {
   "cell_type": "code",
   "execution_count": null,
   "metadata": {},
   "outputs": [],
   "source": []
  }
 ],
 "metadata": {
  "kernelspec": {
   "display_name": "Python 3.8.5 ('base')",
   "language": "python",
   "name": "python3"
  },
  "language_info": {
   "codemirror_mode": {
    "name": "ipython",
    "version": 3
   },
   "file_extension": ".py",
   "mimetype": "text/x-python",
   "name": "python",
   "nbconvert_exporter": "python",
   "pygments_lexer": "ipython3",
   "version": "3.8.5"
  },
  "vscode": {
   "interpreter": {
    "hash": "2dbf458290ec5c52c4548c005021f14c1e3b4d77d418a7c4e338cee2a72246b8"
   }
  }
 },
 "nbformat": 4,
 "nbformat_minor": 0
}
