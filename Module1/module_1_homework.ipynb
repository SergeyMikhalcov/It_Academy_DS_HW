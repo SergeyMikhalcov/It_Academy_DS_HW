{
 "cells": [
  {
   "cell_type": "markdown",
   "metadata": {
    "collapsed": false,
    "pycharm": {
     "name": "#%% md\n"
    }
   },
   "source": [
    "# Домашнее задание на проверку знаний библиотеки для анализа данных Pandas.\n",
    "\n",
    "Вам представлен датасет, который содержит информацию по результатам сезона 2016 года игры в бейсбол.\n",
    "\n",
    "Вам необходимо загрузить датасет (он находится в архиве с текущим домашним заданием). Провести его очистку, если это необходимо и ответить на поставленные аналитические\n",
    "вопросы.\n",
    "\n",
    "Список колонок, представленных в датасете:\n",
    "\n",
    "---\n",
    "* attendance        - количество зрителей матча\n",
    "* away_team         - название гостевой команды\n",
    "* away_team_errors  - количество ошибок гостевой команды\n",
    "* away_team_hits    - количество хитов гостевой команды (хит в бейсболе - удар при котором отбивающий достиг первой базы)\n",
    "* away_team_runs    - количество ранов гостевой команды (ран в бейсболе - очко заработанное игроком нападения)\n",
    "* date              - дата проведения матча\n",
    "* field_type        - тип игрового поля\n",
    "* game_type         - тип игры\n",
    "* home_team         - название домашней команды\n",
    "* home_team_errors  - количество ошибок домашней команды\n",
    "* home_team_hits    - количество хитов домашней команды (хит в бейсболе - удар при котором отбивающий достиг первой базы)\n",
    "* home_team_runs    - количество ранов домашней команды (ран в бейсболе - очко заработанное игроком нападения)\n",
    "* start_time        - время начала игрового матча\n",
    "* venue             - название места проведения матча (стадион, поле, арена)\n",
    "* day_of_week       - день недели проведения матча\n",
    "* temperature       - температура воздуха в день проведения матча в фаренгейтах\n",
    "* wind_speed        - скорость ветра в день проведения матча\n",
    "* wind_direction    - направление скорости ветра\n",
    "* sky               - облачность\n",
    "* total_runs        - общее количество ранов для двух команд\n",
    "* game_hours_dec    - длительность матча указаная в часах\n",
    "* season            - тип игрового сезона\n",
    "* home_team_win     - результат домашней команды (1 - выигрыш)\n",
    "* home_team_loss    - результат домашней команды (0 - проигрыш)\n",
    "* home_team_outcome - исход матча\n",
    "---\n",
    "\n",
    "Всего в задании 20 вопросов. За каждый правильный вопрос начисляется 5 баллов. Таким образом за все правильные ответы вы получите - 100 баллов. Оценка затем будет приведена к 10-ти бальной шкале.\n",
    "\n",
    "---\n",
    "\n",
    "**Кроме того, баллы могут быть снижены за**:\n",
    "\n",
    "- 1 балл снижается за качество кода - старайтесь чтобы код был максимально лаконичным. Названия переменных (если они используются) должны отражать максимальную ее сущность. Вывод старайтесь делать минимальным, так как первичная цель - сделать качественный анализ, чтобы быстро ответить на поставленный вопрос (никаких таблиц на 100 строк).\n",
    "\n",
    "\n",
    "- 5 баллов снижается если ответ на домашнюю работу будет прислан в виде скриншота, ноутбука, текстового файла и прочих способов. Используйте при отправке на проверку только GitHub/GitLab либо прочий сервис. Присылать домашнюю работу необходимо ссылкой на ваш репозиторий на адрес электронной почты maratmovlamov2017@gmail.com\n",
    "\n",
    "\n",
    "- за каждый день просрочки дедлайна снижается по 10 баллов. Один день - минус 10 баллов, второй день минус 10 баллов, третий день минус 10 баллов. Соблюдайте сроки и не приступайте к домашнему заданию в последний момент.\n",
    "\n",
    "---\n",
    "\n",
    "Удачи вам в поисках истинны :)"
   ]
  },
  {
   "cell_type": "code",
   "execution_count": 2,
   "metadata": {
    "collapsed": false,
    "pycharm": {
     "name": "#%%\n"
    }
   },
   "outputs": [],
   "source": [
    "# Импортируйте все необходимые библиотеки и модули которые вам необходимы\n",
    "import seaborn as sns\n",
    "import pandas as pd"
   ]
  },
  {
   "cell_type": "code",
   "execution_count": 3,
   "metadata": {
    "collapsed": false,
    "pycharm": {
     "name": "#%%\n"
    }
   },
   "outputs": [
    {
     "name": "stdout",
     "output_type": "stream",
     "text": [
      "['regular season' 'post season']\n",
      "<class 'pandas.core.frame.DataFrame'>\n",
      "Int64Index: 2428 entries, 0 to 2462\n",
      "Data columns (total 26 columns):\n",
      " #   Column             Non-Null Count  Dtype  \n",
      "---  ------             --------------  -----  \n",
      " 0   Unnamed: 0         2428 non-null   int64  \n",
      " 1   attendance         2425 non-null   float64\n",
      " 2   away_team          2428 non-null   object \n",
      " 3   away_team_errors   2428 non-null   int64  \n",
      " 4   away_team_hits     2428 non-null   int64  \n",
      " 5   away_team_runs     2428 non-null   int64  \n",
      " 6   date               2428 non-null   object \n",
      " 7   field_type         2428 non-null   object \n",
      " 8   game_type          2428 non-null   object \n",
      " 9   home_team          2428 non-null   object \n",
      " 10  home_team_errors   2428 non-null   int64  \n",
      " 11  home_team_hits     2428 non-null   int64  \n",
      " 12  home_team_runs     2428 non-null   int64  \n",
      " 13  start_time         2428 non-null   object \n",
      " 14  venue              2428 non-null   object \n",
      " 15  day_of_week        2428 non-null   object \n",
      " 16  temperature        2428 non-null   float64\n",
      " 17  wind_speed         2428 non-null   float64\n",
      " 18  wind_direction     2428 non-null   object \n",
      " 19  sky                2428 non-null   object \n",
      " 20  total_runs         2428 non-null   int64  \n",
      " 21  game_hours_dec     2428 non-null   float64\n",
      " 22  season             2428 non-null   object \n",
      " 23  home_team_win      2428 non-null   int64  \n",
      " 24  home_team_loss     2428 non-null   int64  \n",
      " 25  home_team_outcome  2428 non-null   object \n",
      "dtypes: float64(4), int64(10), object(12)\n",
      "memory usage: 512.2+ KB\n"
     ]
    }
   ],
   "source": [
    "# Загрузите датасет и проведите его очистку и форматирование если это необходимо\n",
    "baseball_data = pd.read_csv(r'../baseball_games.csv')\n",
    "print(baseball_data['season'].unique())\n",
    "season_baseball_data = baseball_data[baseball_data['season']=='regular season']\n",
    "season_baseball_data.info()"
   ]
  },
  {
   "cell_type": "markdown",
   "metadata": {},
   "source": [
    "Три пустых вхождения в колонку attendance, т.к. нас интересуют только мин. и макс. значения заполним их средним, чтобы не исказить правильные результаты."
   ]
  },
  {
   "cell_type": "code",
   "execution_count": 4,
   "metadata": {},
   "outputs": [
    {
     "name": "stdout",
     "output_type": "stream",
     "text": [
      "<class 'pandas.core.frame.DataFrame'>\n",
      "Int64Index: 2428 entries, 0 to 2462\n",
      "Data columns (total 26 columns):\n",
      " #   Column             Non-Null Count  Dtype  \n",
      "---  ------             --------------  -----  \n",
      " 0   Unnamed: 0         2428 non-null   int64  \n",
      " 1   attendance         2428 non-null   float64\n",
      " 2   away_team          2428 non-null   object \n",
      " 3   away_team_errors   2428 non-null   int64  \n",
      " 4   away_team_hits     2428 non-null   int64  \n",
      " 5   away_team_runs     2428 non-null   int64  \n",
      " 6   date               2428 non-null   object \n",
      " 7   field_type         2428 non-null   object \n",
      " 8   game_type          2428 non-null   object \n",
      " 9   home_team          2428 non-null   object \n",
      " 10  home_team_errors   2428 non-null   int64  \n",
      " 11  home_team_hits     2428 non-null   int64  \n",
      " 12  home_team_runs     2428 non-null   int64  \n",
      " 13  start_time         2428 non-null   object \n",
      " 14  venue              2428 non-null   object \n",
      " 15  day_of_week        2428 non-null   object \n",
      " 16  temperature        2428 non-null   float64\n",
      " 17  wind_speed         2428 non-null   float64\n",
      " 18  wind_direction     2428 non-null   object \n",
      " 19  sky                2428 non-null   object \n",
      " 20  total_runs         2428 non-null   int64  \n",
      " 21  game_hours_dec     2428 non-null   float64\n",
      " 22  season             2428 non-null   object \n",
      " 23  home_team_win      2428 non-null   int64  \n",
      " 24  home_team_loss     2428 non-null   int64  \n",
      " 25  home_team_outcome  2428 non-null   object \n",
      "dtypes: float64(4), int64(10), object(12)\n",
      "memory usage: 512.2+ KB\n"
     ]
    },
    {
     "name": "stderr",
     "output_type": "stream",
     "text": [
      "<ipython-input-4-146f7d2e7667>:1: SettingWithCopyWarning: \n",
      "A value is trying to be set on a copy of a slice from a DataFrame.\n",
      "Try using .loc[row_indexer,col_indexer] = value instead\n",
      "\n",
      "See the caveats in the documentation: https://pandas.pydata.org/pandas-docs/stable/user_guide/indexing.html#returning-a-view-versus-a-copy\n",
      "  season_baseball_data['attendance'] = season_baseball_data['attendance'].fillna(season_baseball_data['attendance'].mean())\n"
     ]
    }
   ],
   "source": [
    "season_baseball_data['attendance'] = season_baseball_data['attendance'].fillna(season_baseball_data['attendance'].mean())\n",
    "season_baseball_data.info()"
   ]
  },
  {
   "cell_type": "markdown",
   "metadata": {
    "collapsed": false,
    "pycharm": {
     "name": "#%% md\n"
    }
   },
   "source": [
    "# 1. На какую игру пришло максимальное количество зрителей за весь сезон игр?"
   ]
  },
  {
   "cell_type": "code",
   "execution_count": 5,
   "metadata": {
    "collapsed": false,
    "pycharm": {
     "name": "#%%\n"
    }
   },
   "outputs": [
    {
     "data": {
      "text/html": [
       "<div>\n",
       "<style scoped>\n",
       "    .dataframe tbody tr th:only-of-type {\n",
       "        vertical-align: middle;\n",
       "    }\n",
       "\n",
       "    .dataframe tbody tr th {\n",
       "        vertical-align: top;\n",
       "    }\n",
       "\n",
       "    .dataframe thead th {\n",
       "        text-align: right;\n",
       "    }\n",
       "</style>\n",
       "<table border=\"1\" class=\"dataframe\">\n",
       "  <thead>\n",
       "    <tr style=\"text-align: right;\">\n",
       "      <th></th>\n",
       "      <th>Unnamed: 0</th>\n",
       "      <th>attendance</th>\n",
       "      <th>away_team</th>\n",
       "      <th>away_team_errors</th>\n",
       "      <th>away_team_hits</th>\n",
       "      <th>away_team_runs</th>\n",
       "      <th>date</th>\n",
       "      <th>field_type</th>\n",
       "      <th>game_type</th>\n",
       "      <th>home_team</th>\n",
       "      <th>...</th>\n",
       "      <th>temperature</th>\n",
       "      <th>wind_speed</th>\n",
       "      <th>wind_direction</th>\n",
       "      <th>sky</th>\n",
       "      <th>total_runs</th>\n",
       "      <th>game_hours_dec</th>\n",
       "      <th>season</th>\n",
       "      <th>home_team_win</th>\n",
       "      <th>home_team_loss</th>\n",
       "      <th>home_team_outcome</th>\n",
       "    </tr>\n",
       "  </thead>\n",
       "  <tbody>\n",
       "    <tr>\n",
       "      <th>534</th>\n",
       "      <td>534</td>\n",
       "      <td>53621.0</td>\n",
       "      <td>San Francisco Giants</td>\n",
       "      <td>1</td>\n",
       "      <td>11</td>\n",
       "      <td>2</td>\n",
       "      <td>2016-09-20</td>\n",
       "      <td>on grass</td>\n",
       "      <td>Night Game</td>\n",
       "      <td>Los Angeles Dodgers</td>\n",
       "      <td>...</td>\n",
       "      <td>77.0</td>\n",
       "      <td>6.0</td>\n",
       "      <td>out to Rightfield</td>\n",
       "      <td>Cloudy</td>\n",
       "      <td>2</td>\n",
       "      <td>3.6</td>\n",
       "      <td>regular season</td>\n",
       "      <td>0</td>\n",
       "      <td>1</td>\n",
       "      <td>Loss</td>\n",
       "    </tr>\n",
       "  </tbody>\n",
       "</table>\n",
       "<p>1 rows × 26 columns</p>\n",
       "</div>"
      ],
      "text/plain": [
       "     Unnamed: 0  attendance             away_team  away_team_errors  \\\n",
       "534         534     53621.0  San Francisco Giants                 1   \n",
       "\n",
       "     away_team_hits  away_team_runs        date field_type   game_type  \\\n",
       "534              11               2  2016-09-20   on grass  Night Game   \n",
       "\n",
       "               home_team  ...  temperature  wind_speed      wind_direction  \\\n",
       "534  Los Angeles Dodgers  ...         77.0         6.0   out to Rightfield   \n",
       "\n",
       "        sky total_runs game_hours_dec          season  home_team_win  \\\n",
       "534  Cloudy          2            3.6  regular season              0   \n",
       "\n",
       "    home_team_loss home_team_outcome  \n",
       "534              1              Loss  \n",
       "\n",
       "[1 rows x 26 columns]"
      ]
     },
     "execution_count": 5,
     "metadata": {},
     "output_type": "execute_result"
    }
   ],
   "source": [
    "season_baseball_data[season_baseball_data['attendance']==season_baseball_data['attendance'].max()]"
   ]
  },
  {
   "cell_type": "markdown",
   "metadata": {
    "collapsed": false,
    "pycharm": {
     "name": "#%% md\n"
    }
   },
   "source": [
    "# 2. Какая игра была самая холодная (temperature) за весь сезон?"
   ]
  },
  {
   "cell_type": "code",
   "execution_count": 6,
   "metadata": {
    "collapsed": false,
    "pycharm": {
     "name": "#%%\n"
    }
   },
   "outputs": [
    {
     "data": {
      "text/html": [
       "<div>\n",
       "<style scoped>\n",
       "    .dataframe tbody tr th:only-of-type {\n",
       "        vertical-align: middle;\n",
       "    }\n",
       "\n",
       "    .dataframe tbody tr th {\n",
       "        vertical-align: top;\n",
       "    }\n",
       "\n",
       "    .dataframe thead th {\n",
       "        text-align: right;\n",
       "    }\n",
       "</style>\n",
       "<table border=\"1\" class=\"dataframe\">\n",
       "  <thead>\n",
       "    <tr style=\"text-align: right;\">\n",
       "      <th></th>\n",
       "      <th>Unnamed: 0</th>\n",
       "      <th>attendance</th>\n",
       "      <th>away_team</th>\n",
       "      <th>away_team_errors</th>\n",
       "      <th>away_team_hits</th>\n",
       "      <th>away_team_runs</th>\n",
       "      <th>date</th>\n",
       "      <th>field_type</th>\n",
       "      <th>game_type</th>\n",
       "      <th>home_team</th>\n",
       "      <th>...</th>\n",
       "      <th>temperature</th>\n",
       "      <th>wind_speed</th>\n",
       "      <th>wind_direction</th>\n",
       "      <th>sky</th>\n",
       "      <th>total_runs</th>\n",
       "      <th>game_hours_dec</th>\n",
       "      <th>season</th>\n",
       "      <th>home_team_win</th>\n",
       "      <th>home_team_loss</th>\n",
       "      <th>home_team_outcome</th>\n",
       "    </tr>\n",
       "  </thead>\n",
       "  <tbody>\n",
       "    <tr>\n",
       "      <th>2409</th>\n",
       "      <td>2409</td>\n",
       "      <td>32419.0</td>\n",
       "      <td>New York Yankees</td>\n",
       "      <td>1</td>\n",
       "      <td>13</td>\n",
       "      <td>8</td>\n",
       "      <td>2016-04-09</td>\n",
       "      <td>on grass</td>\n",
       "      <td>Day Game</td>\n",
       "      <td>Detroit Tigers</td>\n",
       "      <td>...</td>\n",
       "      <td>31.0</td>\n",
       "      <td>18.0</td>\n",
       "      <td>from Left to Right</td>\n",
       "      <td>Cloudy</td>\n",
       "      <td>12</td>\n",
       "      <td>3.333333</td>\n",
       "      <td>regular season</td>\n",
       "      <td>0</td>\n",
       "      <td>1</td>\n",
       "      <td>Loss</td>\n",
       "    </tr>\n",
       "  </tbody>\n",
       "</table>\n",
       "<p>1 rows × 26 columns</p>\n",
       "</div>"
      ],
      "text/plain": [
       "      Unnamed: 0  attendance         away_team  away_team_errors  \\\n",
       "2409        2409     32419.0  New York Yankees                 1   \n",
       "\n",
       "      away_team_hits  away_team_runs        date field_type game_type  \\\n",
       "2409              13               8  2016-04-09   on grass  Day Game   \n",
       "\n",
       "           home_team  ...  temperature  wind_speed       wind_direction  \\\n",
       "2409  Detroit Tigers  ...         31.0        18.0   from Left to Right   \n",
       "\n",
       "         sky total_runs game_hours_dec          season  home_team_win  \\\n",
       "2409  Cloudy         12       3.333333  regular season              0   \n",
       "\n",
       "     home_team_loss home_team_outcome  \n",
       "2409              1              Loss  \n",
       "\n",
       "[1 rows x 26 columns]"
      ]
     },
     "execution_count": 6,
     "metadata": {},
     "output_type": "execute_result"
    }
   ],
   "source": [
    "season_baseball_data[season_baseball_data['temperature']==season_baseball_data['temperature'].min()]"
   ]
  },
  {
   "cell_type": "markdown",
   "metadata": {
    "collapsed": false,
    "pycharm": {
     "name": "#%% md\n"
    }
   },
   "source": [
    "# 3. Какая игра была самая теплая за весь сезон?"
   ]
  },
  {
   "cell_type": "code",
   "execution_count": 7,
   "metadata": {
    "collapsed": false,
    "pycharm": {
     "name": "#%%\n"
    }
   },
   "outputs": [
    {
     "data": {
      "text/html": [
       "<div>\n",
       "<style scoped>\n",
       "    .dataframe tbody tr th:only-of-type {\n",
       "        vertical-align: middle;\n",
       "    }\n",
       "\n",
       "    .dataframe tbody tr th {\n",
       "        vertical-align: top;\n",
       "    }\n",
       "\n",
       "    .dataframe thead th {\n",
       "        text-align: right;\n",
       "    }\n",
       "</style>\n",
       "<table border=\"1\" class=\"dataframe\">\n",
       "  <thead>\n",
       "    <tr style=\"text-align: right;\">\n",
       "      <th></th>\n",
       "      <th>Unnamed: 0</th>\n",
       "      <th>attendance</th>\n",
       "      <th>away_team</th>\n",
       "      <th>away_team_errors</th>\n",
       "      <th>away_team_hits</th>\n",
       "      <th>away_team_runs</th>\n",
       "      <th>date</th>\n",
       "      <th>field_type</th>\n",
       "      <th>game_type</th>\n",
       "      <th>home_team</th>\n",
       "      <th>...</th>\n",
       "      <th>temperature</th>\n",
       "      <th>wind_speed</th>\n",
       "      <th>wind_direction</th>\n",
       "      <th>sky</th>\n",
       "      <th>total_runs</th>\n",
       "      <th>game_hours_dec</th>\n",
       "      <th>season</th>\n",
       "      <th>home_team_win</th>\n",
       "      <th>home_team_loss</th>\n",
       "      <th>home_team_outcome</th>\n",
       "    </tr>\n",
       "  </thead>\n",
       "  <tbody>\n",
       "    <tr>\n",
       "      <th>2026</th>\n",
       "      <td>2026</td>\n",
       "      <td>21753.0</td>\n",
       "      <td>San Francisco Giants</td>\n",
       "      <td>0</td>\n",
       "      <td>8</td>\n",
       "      <td>3</td>\n",
       "      <td>2016-05-13</td>\n",
       "      <td>on grass</td>\n",
       "      <td>Night Game</td>\n",
       "      <td>Arizona Diamondbacks</td>\n",
       "      <td>...</td>\n",
       "      <td>101.0</td>\n",
       "      <td>9.0</td>\n",
       "      <td>in unknown direction</td>\n",
       "      <td>Sunny</td>\n",
       "      <td>4</td>\n",
       "      <td>3.0</td>\n",
       "      <td>regular season</td>\n",
       "      <td>0</td>\n",
       "      <td>1</td>\n",
       "      <td>Loss</td>\n",
       "    </tr>\n",
       "  </tbody>\n",
       "</table>\n",
       "<p>1 rows × 26 columns</p>\n",
       "</div>"
      ],
      "text/plain": [
       "      Unnamed: 0  attendance             away_team  away_team_errors  \\\n",
       "2026        2026     21753.0  San Francisco Giants                 0   \n",
       "\n",
       "      away_team_hits  away_team_runs        date field_type   game_type  \\\n",
       "2026               8               3  2016-05-13   on grass  Night Game   \n",
       "\n",
       "                 home_team  ...  temperature  wind_speed  \\\n",
       "2026  Arizona Diamondbacks  ...        101.0         9.0   \n",
       "\n",
       "             wind_direction    sky total_runs game_hours_dec          season  \\\n",
       "2026   in unknown direction  Sunny          4            3.0  regular season   \n",
       "\n",
       "      home_team_win home_team_loss home_team_outcome  \n",
       "2026              0              1              Loss  \n",
       "\n",
       "[1 rows x 26 columns]"
      ]
     },
     "execution_count": 7,
     "metadata": {},
     "output_type": "execute_result"
    }
   ],
   "source": [
    "season_baseball_data[season_baseball_data['temperature']==season_baseball_data['temperature'].max()]"
   ]
  },
  {
   "cell_type": "markdown",
   "metadata": {
    "collapsed": false,
    "pycharm": {
     "name": "#%% md\n"
    }
   },
   "source": [
    "# 4. Какая игра в сезоне была самая долгая по продолжительности матча?"
   ]
  },
  {
   "cell_type": "code",
   "execution_count": 8,
   "metadata": {
    "collapsed": false,
    "pycharm": {
     "name": "#%%\n"
    }
   },
   "outputs": [
    {
     "data": {
      "text/html": [
       "<div>\n",
       "<style scoped>\n",
       "    .dataframe tbody tr th:only-of-type {\n",
       "        vertical-align: middle;\n",
       "    }\n",
       "\n",
       "    .dataframe tbody tr th {\n",
       "        vertical-align: top;\n",
       "    }\n",
       "\n",
       "    .dataframe thead th {\n",
       "        text-align: right;\n",
       "    }\n",
       "</style>\n",
       "<table border=\"1\" class=\"dataframe\">\n",
       "  <thead>\n",
       "    <tr style=\"text-align: right;\">\n",
       "      <th></th>\n",
       "      <th>Unnamed: 0</th>\n",
       "      <th>attendance</th>\n",
       "      <th>away_team</th>\n",
       "      <th>away_team_errors</th>\n",
       "      <th>away_team_hits</th>\n",
       "      <th>away_team_runs</th>\n",
       "      <th>date</th>\n",
       "      <th>field_type</th>\n",
       "      <th>game_type</th>\n",
       "      <th>home_team</th>\n",
       "      <th>...</th>\n",
       "      <th>temperature</th>\n",
       "      <th>wind_speed</th>\n",
       "      <th>wind_direction</th>\n",
       "      <th>sky</th>\n",
       "      <th>total_runs</th>\n",
       "      <th>game_hours_dec</th>\n",
       "      <th>season</th>\n",
       "      <th>home_team_win</th>\n",
       "      <th>home_team_loss</th>\n",
       "      <th>home_team_outcome</th>\n",
       "    </tr>\n",
       "  </thead>\n",
       "  <tbody>\n",
       "    <tr>\n",
       "      <th>1445</th>\n",
       "      <td>1445</td>\n",
       "      <td>45825.0</td>\n",
       "      <td>Cleveland Indians</td>\n",
       "      <td>0</td>\n",
       "      <td>15</td>\n",
       "      <td>2</td>\n",
       "      <td>2016-07-01</td>\n",
       "      <td>on turf</td>\n",
       "      <td>Day Game</td>\n",
       "      <td>Toronto Blue Jays</td>\n",
       "      <td>...</td>\n",
       "      <td>68.0</td>\n",
       "      <td>0.0</td>\n",
       "      <td>in unknown direction</td>\n",
       "      <td>In Dome</td>\n",
       "      <td>3</td>\n",
       "      <td>6.216667</td>\n",
       "      <td>regular season</td>\n",
       "      <td>0</td>\n",
       "      <td>1</td>\n",
       "      <td>Loss</td>\n",
       "    </tr>\n",
       "  </tbody>\n",
       "</table>\n",
       "<p>1 rows × 26 columns</p>\n",
       "</div>"
      ],
      "text/plain": [
       "      Unnamed: 0  attendance          away_team  away_team_errors  \\\n",
       "1445        1445     45825.0  Cleveland Indians                 0   \n",
       "\n",
       "      away_team_hits  away_team_runs        date field_type game_type  \\\n",
       "1445              15               2  2016-07-01    on turf  Day Game   \n",
       "\n",
       "              home_team  ...  temperature  wind_speed         wind_direction  \\\n",
       "1445  Toronto Blue Jays  ...         68.0         0.0   in unknown direction   \n",
       "\n",
       "          sky total_runs game_hours_dec          season  home_team_win  \\\n",
       "1445  In Dome          3       6.216667  regular season              0   \n",
       "\n",
       "     home_team_loss home_team_outcome  \n",
       "1445              1              Loss  \n",
       "\n",
       "[1 rows x 26 columns]"
      ]
     },
     "execution_count": 8,
     "metadata": {},
     "output_type": "execute_result"
    }
   ],
   "source": [
    "season_baseball_data[season_baseball_data['game_hours_dec']==season_baseball_data['game_hours_dec'].max()]"
   ]
  },
  {
   "cell_type": "markdown",
   "metadata": {
    "collapsed": false,
    "pycharm": {
     "name": "#%% md\n"
    }
   },
   "source": [
    "# 5. Какая игра в сезоне была самая короткая по продолжительности матча?"
   ]
  },
  {
   "cell_type": "code",
   "execution_count": 9,
   "metadata": {
    "collapsed": false,
    "pycharm": {
     "name": "#%%\n"
    }
   },
   "outputs": [
    {
     "data": {
      "text/html": [
       "<div>\n",
       "<style scoped>\n",
       "    .dataframe tbody tr th:only-of-type {\n",
       "        vertical-align: middle;\n",
       "    }\n",
       "\n",
       "    .dataframe tbody tr th {\n",
       "        vertical-align: top;\n",
       "    }\n",
       "\n",
       "    .dataframe thead th {\n",
       "        text-align: right;\n",
       "    }\n",
       "</style>\n",
       "<table border=\"1\" class=\"dataframe\">\n",
       "  <thead>\n",
       "    <tr style=\"text-align: right;\">\n",
       "      <th></th>\n",
       "      <th>Unnamed: 0</th>\n",
       "      <th>attendance</th>\n",
       "      <th>away_team</th>\n",
       "      <th>away_team_errors</th>\n",
       "      <th>away_team_hits</th>\n",
       "      <th>away_team_runs</th>\n",
       "      <th>date</th>\n",
       "      <th>field_type</th>\n",
       "      <th>game_type</th>\n",
       "      <th>home_team</th>\n",
       "      <th>...</th>\n",
       "      <th>temperature</th>\n",
       "      <th>wind_speed</th>\n",
       "      <th>wind_direction</th>\n",
       "      <th>sky</th>\n",
       "      <th>total_runs</th>\n",
       "      <th>game_hours_dec</th>\n",
       "      <th>season</th>\n",
       "      <th>home_team_win</th>\n",
       "      <th>home_team_loss</th>\n",
       "      <th>home_team_outcome</th>\n",
       "    </tr>\n",
       "  </thead>\n",
       "  <tbody>\n",
       "    <tr>\n",
       "      <th>423</th>\n",
       "      <td>423</td>\n",
       "      <td>19991.0</td>\n",
       "      <td>Chicago Cubs</td>\n",
       "      <td>1</td>\n",
       "      <td>4</td>\n",
       "      <td>1</td>\n",
       "      <td>2016-09-29</td>\n",
       "      <td>on grass</td>\n",
       "      <td>Night Game</td>\n",
       "      <td>Pittsburgh Pirates</td>\n",
       "      <td>...</td>\n",
       "      <td>63.0</td>\n",
       "      <td>12.0</td>\n",
       "      <td>in from Leftfield</td>\n",
       "      <td>Overcast</td>\n",
       "      <td>2</td>\n",
       "      <td>1.25</td>\n",
       "      <td>regular season</td>\n",
       "      <td>0</td>\n",
       "      <td>0</td>\n",
       "      <td>Loss</td>\n",
       "    </tr>\n",
       "  </tbody>\n",
       "</table>\n",
       "<p>1 rows × 26 columns</p>\n",
       "</div>"
      ],
      "text/plain": [
       "     Unnamed: 0  attendance     away_team  away_team_errors  away_team_hits  \\\n",
       "423         423     19991.0  Chicago Cubs                 1               4   \n",
       "\n",
       "     away_team_runs        date field_type   game_type           home_team  \\\n",
       "423               1  2016-09-29   on grass  Night Game  Pittsburgh Pirates   \n",
       "\n",
       "     ...  temperature  wind_speed      wind_direction       sky total_runs  \\\n",
       "423  ...         63.0        12.0   in from Leftfield  Overcast          2   \n",
       "\n",
       "    game_hours_dec          season  home_team_win home_team_loss  \\\n",
       "423           1.25  regular season              0              0   \n",
       "\n",
       "    home_team_outcome  \n",
       "423              Loss  \n",
       "\n",
       "[1 rows x 26 columns]"
      ]
     },
     "execution_count": 9,
     "metadata": {},
     "output_type": "execute_result"
    }
   ],
   "source": [
    "season_baseball_data[season_baseball_data['game_hours_dec']==season_baseball_data['game_hours_dec'].min()]"
   ]
  },
  {
   "cell_type": "markdown",
   "metadata": {
    "collapsed": false,
    "pycharm": {
     "name": "#%% md\n"
    }
   },
   "source": [
    "# 6. Сколько матчей в сезоне закончилось ничьей?"
   ]
  },
  {
   "cell_type": "code",
   "execution_count": 10,
   "metadata": {
    "collapsed": false,
    "pycharm": {
     "name": "#%%\n"
    }
   },
   "outputs": [
    {
     "data": {
      "text/plain": [
       "array(['Win', 'Loss'], dtype=object)"
      ]
     },
     "execution_count": 10,
     "metadata": {},
     "output_type": "execute_result"
    }
   ],
   "source": [
    "season_baseball_data['home_team_outcome'].unique()"
   ]
  },
  {
   "cell_type": "markdown",
   "metadata": {},
   "source": [
    "Только два исхода Win и Loss, ничейных исходов не было."
   ]
  },
  {
   "cell_type": "code",
   "execution_count": 11,
   "metadata": {},
   "outputs": [
    {
     "data": {
      "text/html": [
       "<div>\n",
       "<style scoped>\n",
       "    .dataframe tbody tr th:only-of-type {\n",
       "        vertical-align: middle;\n",
       "    }\n",
       "\n",
       "    .dataframe tbody tr th {\n",
       "        vertical-align: top;\n",
       "    }\n",
       "\n",
       "    .dataframe thead th {\n",
       "        text-align: right;\n",
       "    }\n",
       "</style>\n",
       "<table border=\"1\" class=\"dataframe\">\n",
       "  <thead>\n",
       "    <tr style=\"text-align: right;\">\n",
       "      <th></th>\n",
       "      <th>Unnamed: 0</th>\n",
       "      <th>attendance</th>\n",
       "      <th>away_team</th>\n",
       "      <th>away_team_errors</th>\n",
       "      <th>away_team_hits</th>\n",
       "      <th>away_team_runs</th>\n",
       "      <th>date</th>\n",
       "      <th>field_type</th>\n",
       "      <th>game_type</th>\n",
       "      <th>home_team</th>\n",
       "      <th>...</th>\n",
       "      <th>temperature</th>\n",
       "      <th>wind_speed</th>\n",
       "      <th>wind_direction</th>\n",
       "      <th>sky</th>\n",
       "      <th>total_runs</th>\n",
       "      <th>game_hours_dec</th>\n",
       "      <th>season</th>\n",
       "      <th>home_team_win</th>\n",
       "      <th>home_team_loss</th>\n",
       "      <th>home_team_outcome</th>\n",
       "    </tr>\n",
       "  </thead>\n",
       "  <tbody>\n",
       "    <tr>\n",
       "      <th>423</th>\n",
       "      <td>423</td>\n",
       "      <td>19991.0</td>\n",
       "      <td>Chicago Cubs</td>\n",
       "      <td>1</td>\n",
       "      <td>4</td>\n",
       "      <td>1</td>\n",
       "      <td>2016-09-29</td>\n",
       "      <td>on grass</td>\n",
       "      <td>Night Game</td>\n",
       "      <td>Pittsburgh Pirates</td>\n",
       "      <td>...</td>\n",
       "      <td>63.0</td>\n",
       "      <td>12.0</td>\n",
       "      <td>in from Leftfield</td>\n",
       "      <td>Overcast</td>\n",
       "      <td>2</td>\n",
       "      <td>1.25</td>\n",
       "      <td>regular season</td>\n",
       "      <td>0</td>\n",
       "      <td>0</td>\n",
       "      <td>Loss</td>\n",
       "    </tr>\n",
       "  </tbody>\n",
       "</table>\n",
       "<p>1 rows × 26 columns</p>\n",
       "</div>"
      ],
      "text/plain": [
       "     Unnamed: 0  attendance     away_team  away_team_errors  away_team_hits  \\\n",
       "423         423     19991.0  Chicago Cubs                 1               4   \n",
       "\n",
       "     away_team_runs        date field_type   game_type           home_team  \\\n",
       "423               1  2016-09-29   on grass  Night Game  Pittsburgh Pirates   \n",
       "\n",
       "     ...  temperature  wind_speed      wind_direction       sky total_runs  \\\n",
       "423  ...         63.0        12.0   in from Leftfield  Overcast          2   \n",
       "\n",
       "    game_hours_dec          season  home_team_win home_team_loss  \\\n",
       "423           1.25  regular season              0              0   \n",
       "\n",
       "    home_team_outcome  \n",
       "423              Loss  \n",
       "\n",
       "[1 rows x 26 columns]"
      ]
     },
     "execution_count": 11,
     "metadata": {},
     "output_type": "execute_result"
    }
   ],
   "source": [
    "season_baseball_data[(season_baseball_data['home_team_loss']==0) & (season_baseball_data['home_team_win']==0)]"
   ]
  },
  {
   "cell_type": "markdown",
   "metadata": {},
   "source": [
    "Но есть один матч, где аутком loss, но в колонках home_team_loss home_team_win нули. Возможно это и есть та самая ничья."
   ]
  },
  {
   "cell_type": "markdown",
   "metadata": {
    "collapsed": false,
    "pycharm": {
     "name": "#%% md\n"
    }
   },
   "source": [
    "# 7. Какая игра была последней в сезоне?"
   ]
  },
  {
   "cell_type": "code",
   "execution_count": 12,
   "metadata": {
    "collapsed": false,
    "pycharm": {
     "name": "#%%\n"
    }
   },
   "outputs": [
    {
     "data": {
      "text/html": [
       "<div>\n",
       "<style scoped>\n",
       "    .dataframe tbody tr th:only-of-type {\n",
       "        vertical-align: middle;\n",
       "    }\n",
       "\n",
       "    .dataframe tbody tr th {\n",
       "        vertical-align: top;\n",
       "    }\n",
       "\n",
       "    .dataframe thead th {\n",
       "        text-align: right;\n",
       "    }\n",
       "</style>\n",
       "<table border=\"1\" class=\"dataframe\">\n",
       "  <thead>\n",
       "    <tr style=\"text-align: right;\">\n",
       "      <th></th>\n",
       "      <th>Unnamed: 0</th>\n",
       "      <th>attendance</th>\n",
       "      <th>away_team</th>\n",
       "      <th>away_team_errors</th>\n",
       "      <th>away_team_hits</th>\n",
       "      <th>away_team_runs</th>\n",
       "      <th>date</th>\n",
       "      <th>field_type</th>\n",
       "      <th>game_type</th>\n",
       "      <th>home_team</th>\n",
       "      <th>...</th>\n",
       "      <th>temperature</th>\n",
       "      <th>wind_speed</th>\n",
       "      <th>wind_direction</th>\n",
       "      <th>sky</th>\n",
       "      <th>total_runs</th>\n",
       "      <th>game_hours_dec</th>\n",
       "      <th>season</th>\n",
       "      <th>home_team_win</th>\n",
       "      <th>home_team_loss</th>\n",
       "      <th>home_team_outcome</th>\n",
       "    </tr>\n",
       "  </thead>\n",
       "  <tbody>\n",
       "    <tr>\n",
       "      <th>395</th>\n",
       "      <td>395</td>\n",
       "      <td>36787.0</td>\n",
       "      <td>Toronto Blue Jays</td>\n",
       "      <td>0</td>\n",
       "      <td>9</td>\n",
       "      <td>2</td>\n",
       "      <td>2016-10-02</td>\n",
       "      <td>on grass</td>\n",
       "      <td>Day Game</td>\n",
       "      <td>Boston Red Sox</td>\n",
       "      <td>...</td>\n",
       "      <td>56.0</td>\n",
       "      <td>6.0</td>\n",
       "      <td>out to Leftfield</td>\n",
       "      <td>Unknown</td>\n",
       "      <td>3</td>\n",
       "      <td>3.233333</td>\n",
       "      <td>regular season</td>\n",
       "      <td>0</td>\n",
       "      <td>1</td>\n",
       "      <td>Loss</td>\n",
       "    </tr>\n",
       "  </tbody>\n",
       "</table>\n",
       "<p>1 rows × 26 columns</p>\n",
       "</div>"
      ],
      "text/plain": [
       "     Unnamed: 0  attendance          away_team  away_team_errors  \\\n",
       "395         395     36787.0  Toronto Blue Jays                 0   \n",
       "\n",
       "     away_team_hits  away_team_runs        date field_type game_type  \\\n",
       "395               9               2  2016-10-02   on grass  Day Game   \n",
       "\n",
       "          home_team  ...  temperature  wind_speed     wind_direction      sky  \\\n",
       "395  Boston Red Sox  ...         56.0         6.0   out to Leftfield  Unknown   \n",
       "\n",
       "    total_runs game_hours_dec          season  home_team_win home_team_loss  \\\n",
       "395          3       3.233333  regular season              0              1   \n",
       "\n",
       "    home_team_outcome  \n",
       "395              Loss  \n",
       "\n",
       "[1 rows x 26 columns]"
      ]
     },
     "execution_count": 12,
     "metadata": {},
     "output_type": "execute_result"
    }
   ],
   "source": [
    "last_day_games = season_baseball_data[season_baseball_data['date']==season_baseball_data['date'].max()]\n",
    "last_day_games[last_day_games['start_time']==last_day_games['start_time'].max()]"
   ]
  },
  {
   "cell_type": "markdown",
   "metadata": {
    "collapsed": false,
    "pycharm": {
     "name": "#%% md\n"
    }
   },
   "source": [
    "# 8. У какой игры было минимальное количество зрителей?"
   ]
  },
  {
   "cell_type": "markdown",
   "metadata": {},
   "source": [
    "тут не сказано \"в сезоне\" поэтому использую не обрезанную таблицу"
   ]
  },
  {
   "cell_type": "code",
   "execution_count": 13,
   "metadata": {
    "collapsed": false,
    "pycharm": {
     "name": "#%%\n"
    }
   },
   "outputs": [
    {
     "data": {
      "text/html": [
       "<div>\n",
       "<style scoped>\n",
       "    .dataframe tbody tr th:only-of-type {\n",
       "        vertical-align: middle;\n",
       "    }\n",
       "\n",
       "    .dataframe tbody tr th {\n",
       "        vertical-align: top;\n",
       "    }\n",
       "\n",
       "    .dataframe thead th {\n",
       "        text-align: right;\n",
       "    }\n",
       "</style>\n",
       "<table border=\"1\" class=\"dataframe\">\n",
       "  <thead>\n",
       "    <tr style=\"text-align: right;\">\n",
       "      <th></th>\n",
       "      <th>Unnamed: 0</th>\n",
       "      <th>attendance</th>\n",
       "      <th>away_team</th>\n",
       "      <th>away_team_errors</th>\n",
       "      <th>away_team_hits</th>\n",
       "      <th>away_team_runs</th>\n",
       "      <th>date</th>\n",
       "      <th>field_type</th>\n",
       "      <th>game_type</th>\n",
       "      <th>home_team</th>\n",
       "      <th>...</th>\n",
       "      <th>temperature</th>\n",
       "      <th>wind_speed</th>\n",
       "      <th>wind_direction</th>\n",
       "      <th>sky</th>\n",
       "      <th>total_runs</th>\n",
       "      <th>game_hours_dec</th>\n",
       "      <th>season</th>\n",
       "      <th>home_team_win</th>\n",
       "      <th>home_team_loss</th>\n",
       "      <th>home_team_outcome</th>\n",
       "    </tr>\n",
       "  </thead>\n",
       "  <tbody>\n",
       "    <tr>\n",
       "      <th>358</th>\n",
       "      <td>358</td>\n",
       "      <td>54449.0</td>\n",
       "      <td>Chicago Cubs</td>\n",
       "      <td>0</td>\n",
       "      <td>13</td>\n",
       "      <td>8</td>\n",
       "      <td>2016-10-20</td>\n",
       "      <td>on grass</td>\n",
       "      <td>Night Game</td>\n",
       "      <td>Los Angeles Dodgers</td>\n",
       "      <td>...</td>\n",
       "      <td>89.0</td>\n",
       "      <td>7.0</td>\n",
       "      <td>out to Centerfield</td>\n",
       "      <td>Night</td>\n",
       "      <td>12</td>\n",
       "      <td>4.266667</td>\n",
       "      <td>post season</td>\n",
       "      <td>0</td>\n",
       "      <td>1</td>\n",
       "      <td>Loss</td>\n",
       "    </tr>\n",
       "    <tr>\n",
       "      <th>360</th>\n",
       "      <td>360</td>\n",
       "      <td>54449.0</td>\n",
       "      <td>Chicago Cubs</td>\n",
       "      <td>2</td>\n",
       "      <td>13</td>\n",
       "      <td>10</td>\n",
       "      <td>2016-10-19</td>\n",
       "      <td>on grass</td>\n",
       "      <td>Night Game</td>\n",
       "      <td>Los Angeles Dodgers</td>\n",
       "      <td>...</td>\n",
       "      <td>89.0</td>\n",
       "      <td>4.0</td>\n",
       "      <td>out to Rightfield</td>\n",
       "      <td>Night</td>\n",
       "      <td>12</td>\n",
       "      <td>3.966667</td>\n",
       "      <td>post season</td>\n",
       "      <td>0</td>\n",
       "      <td>1</td>\n",
       "      <td>Loss</td>\n",
       "    </tr>\n",
       "  </tbody>\n",
       "</table>\n",
       "<p>2 rows × 26 columns</p>\n",
       "</div>"
      ],
      "text/plain": [
       "     Unnamed: 0  attendance     away_team  away_team_errors  away_team_hits  \\\n",
       "358         358     54449.0  Chicago Cubs                 0              13   \n",
       "360         360     54449.0  Chicago Cubs                 2              13   \n",
       "\n",
       "     away_team_runs        date field_type   game_type            home_team  \\\n",
       "358               8  2016-10-20   on grass  Night Game  Los Angeles Dodgers   \n",
       "360              10  2016-10-19   on grass  Night Game  Los Angeles Dodgers   \n",
       "\n",
       "     ...  temperature  wind_speed       wind_direction    sky total_runs  \\\n",
       "358  ...         89.0         7.0   out to Centerfield  Night         12   \n",
       "360  ...         89.0         4.0    out to Rightfield  Night         12   \n",
       "\n",
       "    game_hours_dec       season  home_team_win home_team_loss  \\\n",
       "358       4.266667  post season              0              1   \n",
       "360       3.966667  post season              0              1   \n",
       "\n",
       "    home_team_outcome  \n",
       "358              Loss  \n",
       "360              Loss  \n",
       "\n",
       "[2 rows x 26 columns]"
      ]
     },
     "execution_count": 13,
     "metadata": {},
     "output_type": "execute_result"
    }
   ],
   "source": [
    "baseball_data[baseball_data['attendance']==baseball_data['attendance'].max()]"
   ]
  },
  {
   "cell_type": "markdown",
   "metadata": {
    "collapsed": false,
    "pycharm": {
     "name": "#%% md\n"
    }
   },
   "source": [
    "# 9. Какая игра в сезоне была самая ветренная?"
   ]
  },
  {
   "cell_type": "code",
   "execution_count": 14,
   "metadata": {
    "collapsed": false,
    "pycharm": {
     "name": "#%%\n"
    }
   },
   "outputs": [
    {
     "data": {
      "text/html": [
       "<div>\n",
       "<style scoped>\n",
       "    .dataframe tbody tr th:only-of-type {\n",
       "        vertical-align: middle;\n",
       "    }\n",
       "\n",
       "    .dataframe tbody tr th {\n",
       "        vertical-align: top;\n",
       "    }\n",
       "\n",
       "    .dataframe thead th {\n",
       "        text-align: right;\n",
       "    }\n",
       "</style>\n",
       "<table border=\"1\" class=\"dataframe\">\n",
       "  <thead>\n",
       "    <tr style=\"text-align: right;\">\n",
       "      <th></th>\n",
       "      <th>Unnamed: 0</th>\n",
       "      <th>attendance</th>\n",
       "      <th>away_team</th>\n",
       "      <th>away_team_errors</th>\n",
       "      <th>away_team_hits</th>\n",
       "      <th>away_team_runs</th>\n",
       "      <th>date</th>\n",
       "      <th>field_type</th>\n",
       "      <th>game_type</th>\n",
       "      <th>home_team</th>\n",
       "      <th>...</th>\n",
       "      <th>temperature</th>\n",
       "      <th>wind_speed</th>\n",
       "      <th>wind_direction</th>\n",
       "      <th>sky</th>\n",
       "      <th>total_runs</th>\n",
       "      <th>game_hours_dec</th>\n",
       "      <th>season</th>\n",
       "      <th>home_team_win</th>\n",
       "      <th>home_team_loss</th>\n",
       "      <th>home_team_outcome</th>\n",
       "    </tr>\n",
       "  </thead>\n",
       "  <tbody>\n",
       "    <tr>\n",
       "      <th>1655</th>\n",
       "      <td>1655</td>\n",
       "      <td>41543.0</td>\n",
       "      <td>Milwaukee Brewers</td>\n",
       "      <td>1</td>\n",
       "      <td>11</td>\n",
       "      <td>5</td>\n",
       "      <td>2016-06-13</td>\n",
       "      <td>on grass</td>\n",
       "      <td>Night Game</td>\n",
       "      <td>San Francisco Giants</td>\n",
       "      <td>...</td>\n",
       "      <td>58.0</td>\n",
       "      <td>25.0</td>\n",
       "      <td>out to Centerfield</td>\n",
       "      <td>Cloudy</td>\n",
       "      <td>16</td>\n",
       "      <td>3.633333</td>\n",
       "      <td>regular season</td>\n",
       "      <td>1</td>\n",
       "      <td>0</td>\n",
       "      <td>Win</td>\n",
       "    </tr>\n",
       "    <tr>\n",
       "      <th>2005</th>\n",
       "      <td>2005</td>\n",
       "      <td>35736.0</td>\n",
       "      <td>Houston Astros</td>\n",
       "      <td>2</td>\n",
       "      <td>8</td>\n",
       "      <td>9</td>\n",
       "      <td>2016-05-15</td>\n",
       "      <td>on grass</td>\n",
       "      <td>Day Game</td>\n",
       "      <td>Boston Red Sox</td>\n",
       "      <td>...</td>\n",
       "      <td>58.0</td>\n",
       "      <td>25.0</td>\n",
       "      <td>out to Rightfield</td>\n",
       "      <td>Cloudy</td>\n",
       "      <td>19</td>\n",
       "      <td>3.666667</td>\n",
       "      <td>regular season</td>\n",
       "      <td>1</td>\n",
       "      <td>0</td>\n",
       "      <td>Win</td>\n",
       "    </tr>\n",
       "  </tbody>\n",
       "</table>\n",
       "<p>2 rows × 26 columns</p>\n",
       "</div>"
      ],
      "text/plain": [
       "      Unnamed: 0  attendance          away_team  away_team_errors  \\\n",
       "1655        1655     41543.0  Milwaukee Brewers                 1   \n",
       "2005        2005     35736.0     Houston Astros                 2   \n",
       "\n",
       "      away_team_hits  away_team_runs        date field_type   game_type  \\\n",
       "1655              11               5  2016-06-13   on grass  Night Game   \n",
       "2005               8               9  2016-05-15   on grass    Day Game   \n",
       "\n",
       "                 home_team  ...  temperature  wind_speed       wind_direction  \\\n",
       "1655  San Francisco Giants  ...         58.0        25.0   out to Centerfield   \n",
       "2005        Boston Red Sox  ...         58.0        25.0    out to Rightfield   \n",
       "\n",
       "         sky total_runs game_hours_dec          season  home_team_win  \\\n",
       "1655  Cloudy         16       3.633333  regular season              1   \n",
       "2005  Cloudy         19       3.666667  regular season              1   \n",
       "\n",
       "     home_team_loss home_team_outcome  \n",
       "1655              0               Win  \n",
       "2005              0               Win  \n",
       "\n",
       "[2 rows x 26 columns]"
      ]
     },
     "execution_count": 14,
     "metadata": {},
     "output_type": "execute_result"
    }
   ],
   "source": [
    "season_baseball_data[season_baseball_data['wind_speed']==season_baseball_data['wind_speed'].max()]"
   ]
  },
  {
   "cell_type": "markdown",
   "metadata": {
    "collapsed": false,
    "pycharm": {
     "name": "#%% md\n"
    }
   },
   "source": [
    "# 10. В какой игре получили максимальное количество ранов?"
   ]
  },
  {
   "cell_type": "code",
   "execution_count": 15,
   "metadata": {
    "collapsed": false,
    "pycharm": {
     "name": "#%%\n"
    }
   },
   "outputs": [
    {
     "data": {
      "text/html": [
       "<div>\n",
       "<style scoped>\n",
       "    .dataframe tbody tr th:only-of-type {\n",
       "        vertical-align: middle;\n",
       "    }\n",
       "\n",
       "    .dataframe tbody tr th {\n",
       "        vertical-align: top;\n",
       "    }\n",
       "\n",
       "    .dataframe thead th {\n",
       "        text-align: right;\n",
       "    }\n",
       "</style>\n",
       "<table border=\"1\" class=\"dataframe\">\n",
       "  <thead>\n",
       "    <tr style=\"text-align: right;\">\n",
       "      <th></th>\n",
       "      <th>Unnamed: 0</th>\n",
       "      <th>attendance</th>\n",
       "      <th>away_team</th>\n",
       "      <th>away_team_errors</th>\n",
       "      <th>away_team_hits</th>\n",
       "      <th>away_team_runs</th>\n",
       "      <th>date</th>\n",
       "      <th>field_type</th>\n",
       "      <th>game_type</th>\n",
       "      <th>home_team</th>\n",
       "      <th>...</th>\n",
       "      <th>temperature</th>\n",
       "      <th>wind_speed</th>\n",
       "      <th>wind_direction</th>\n",
       "      <th>sky</th>\n",
       "      <th>total_runs</th>\n",
       "      <th>game_hours_dec</th>\n",
       "      <th>season</th>\n",
       "      <th>home_team_win</th>\n",
       "      <th>home_team_loss</th>\n",
       "      <th>home_team_outcome</th>\n",
       "    </tr>\n",
       "  </thead>\n",
       "  <tbody>\n",
       "    <tr>\n",
       "      <th>1788</th>\n",
       "      <td>1788</td>\n",
       "      <td>22588.0</td>\n",
       "      <td>Seattle Mariners</td>\n",
       "      <td>1</td>\n",
       "      <td>16</td>\n",
       "      <td>16</td>\n",
       "      <td>2016-06-02</td>\n",
       "      <td>on grass</td>\n",
       "      <td>Night Game</td>\n",
       "      <td>San Diego Padres</td>\n",
       "      <td>...</td>\n",
       "      <td>76.0</td>\n",
       "      <td>10.0</td>\n",
       "      <td>out to Rightfield</td>\n",
       "      <td>Sunny</td>\n",
       "      <td>29</td>\n",
       "      <td>3.833333</td>\n",
       "      <td>regular season</td>\n",
       "      <td>0</td>\n",
       "      <td>1</td>\n",
       "      <td>Loss</td>\n",
       "    </tr>\n",
       "  </tbody>\n",
       "</table>\n",
       "<p>1 rows × 26 columns</p>\n",
       "</div>"
      ],
      "text/plain": [
       "      Unnamed: 0  attendance         away_team  away_team_errors  \\\n",
       "1788        1788     22588.0  Seattle Mariners                 1   \n",
       "\n",
       "      away_team_hits  away_team_runs        date field_type   game_type  \\\n",
       "1788              16              16  2016-06-02   on grass  Night Game   \n",
       "\n",
       "             home_team  ...  temperature  wind_speed      wind_direction  \\\n",
       "1788  San Diego Padres  ...         76.0        10.0   out to Rightfield   \n",
       "\n",
       "        sky total_runs game_hours_dec          season  home_team_win  \\\n",
       "1788  Sunny         29       3.833333  regular season              0   \n",
       "\n",
       "     home_team_loss home_team_outcome  \n",
       "1788              1              Loss  \n",
       "\n",
       "[1 rows x 26 columns]"
      ]
     },
     "execution_count": 15,
     "metadata": {},
     "output_type": "execute_result"
    }
   ],
   "source": [
    "baseball_data[baseball_data['total_runs']==baseball_data['total_runs'].max()]"
   ]
  },
  {
   "cell_type": "markdown",
   "metadata": {
    "collapsed": false,
    "pycharm": {
     "name": "#%% md\n"
    }
   },
   "source": [
    "# 11. Какая игра содержала максимальное количество ошибок домашней команды?"
   ]
  },
  {
   "cell_type": "code",
   "execution_count": 16,
   "metadata": {
    "collapsed": false,
    "pycharm": {
     "name": "#%%\n"
    }
   },
   "outputs": [
    {
     "data": {
      "text/html": [
       "<div>\n",
       "<style scoped>\n",
       "    .dataframe tbody tr th:only-of-type {\n",
       "        vertical-align: middle;\n",
       "    }\n",
       "\n",
       "    .dataframe tbody tr th {\n",
       "        vertical-align: top;\n",
       "    }\n",
       "\n",
       "    .dataframe thead th {\n",
       "        text-align: right;\n",
       "    }\n",
       "</style>\n",
       "<table border=\"1\" class=\"dataframe\">\n",
       "  <thead>\n",
       "    <tr style=\"text-align: right;\">\n",
       "      <th></th>\n",
       "      <th>Unnamed: 0</th>\n",
       "      <th>attendance</th>\n",
       "      <th>away_team</th>\n",
       "      <th>away_team_errors</th>\n",
       "      <th>away_team_hits</th>\n",
       "      <th>away_team_runs</th>\n",
       "      <th>date</th>\n",
       "      <th>field_type</th>\n",
       "      <th>game_type</th>\n",
       "      <th>home_team</th>\n",
       "      <th>...</th>\n",
       "      <th>temperature</th>\n",
       "      <th>wind_speed</th>\n",
       "      <th>wind_direction</th>\n",
       "      <th>sky</th>\n",
       "      <th>total_runs</th>\n",
       "      <th>game_hours_dec</th>\n",
       "      <th>season</th>\n",
       "      <th>home_team_win</th>\n",
       "      <th>home_team_loss</th>\n",
       "      <th>home_team_outcome</th>\n",
       "    </tr>\n",
       "  </thead>\n",
       "  <tbody>\n",
       "    <tr>\n",
       "      <th>1178</th>\n",
       "      <td>1178</td>\n",
       "      <td>22581.0</td>\n",
       "      <td>Arizona Diamondbacks</td>\n",
       "      <td>1</td>\n",
       "      <td>11</td>\n",
       "      <td>8</td>\n",
       "      <td>2016-07-27</td>\n",
       "      <td>on grass</td>\n",
       "      <td>Night Game</td>\n",
       "      <td>Milwaukee Brewers</td>\n",
       "      <td>...</td>\n",
       "      <td>77.0</td>\n",
       "      <td>9.0</td>\n",
       "      <td>in from Leftfield</td>\n",
       "      <td>Cloudy</td>\n",
       "      <td>9</td>\n",
       "      <td>2.933333</td>\n",
       "      <td>regular season</td>\n",
       "      <td>0</td>\n",
       "      <td>1</td>\n",
       "      <td>Loss</td>\n",
       "    </tr>\n",
       "  </tbody>\n",
       "</table>\n",
       "<p>1 rows × 26 columns</p>\n",
       "</div>"
      ],
      "text/plain": [
       "      Unnamed: 0  attendance             away_team  away_team_errors  \\\n",
       "1178        1178     22581.0  Arizona Diamondbacks                 1   \n",
       "\n",
       "      away_team_hits  away_team_runs        date field_type   game_type  \\\n",
       "1178              11               8  2016-07-27   on grass  Night Game   \n",
       "\n",
       "              home_team  ...  temperature  wind_speed      wind_direction  \\\n",
       "1178  Milwaukee Brewers  ...         77.0         9.0   in from Leftfield   \n",
       "\n",
       "         sky total_runs game_hours_dec          season  home_team_win  \\\n",
       "1178  Cloudy          9       2.933333  regular season              0   \n",
       "\n",
       "     home_team_loss home_team_outcome  \n",
       "1178              1              Loss  \n",
       "\n",
       "[1 rows x 26 columns]"
      ]
     },
     "execution_count": 16,
     "metadata": {},
     "output_type": "execute_result"
    }
   ],
   "source": [
    "baseball_data[baseball_data['home_team_errors']==baseball_data['home_team_errors'].max()]"
   ]
  },
  {
   "cell_type": "markdown",
   "metadata": {
    "collapsed": false,
    "pycharm": {
     "name": "#%% md\n"
    }
   },
   "source": [
    "# 12. В какой игре было максимальное количество хитов?"
   ]
  },
  {
   "cell_type": "code",
   "execution_count": 17,
   "metadata": {
    "collapsed": false,
    "pycharm": {
     "name": "#%%\n"
    }
   },
   "outputs": [
    {
     "data": {
      "text/html": [
       "<div>\n",
       "<style scoped>\n",
       "    .dataframe tbody tr th:only-of-type {\n",
       "        vertical-align: middle;\n",
       "    }\n",
       "\n",
       "    .dataframe tbody tr th {\n",
       "        vertical-align: top;\n",
       "    }\n",
       "\n",
       "    .dataframe thead th {\n",
       "        text-align: right;\n",
       "    }\n",
       "</style>\n",
       "<table border=\"1\" class=\"dataframe\">\n",
       "  <thead>\n",
       "    <tr style=\"text-align: right;\">\n",
       "      <th></th>\n",
       "      <th>Unnamed: 0</th>\n",
       "      <th>attendance</th>\n",
       "      <th>away_team</th>\n",
       "      <th>away_team_errors</th>\n",
       "      <th>away_team_hits</th>\n",
       "      <th>away_team_runs</th>\n",
       "      <th>date</th>\n",
       "      <th>field_type</th>\n",
       "      <th>game_type</th>\n",
       "      <th>home_team</th>\n",
       "      <th>...</th>\n",
       "      <th>wind_speed</th>\n",
       "      <th>wind_direction</th>\n",
       "      <th>sky</th>\n",
       "      <th>total_runs</th>\n",
       "      <th>game_hours_dec</th>\n",
       "      <th>season</th>\n",
       "      <th>home_team_win</th>\n",
       "      <th>home_team_loss</th>\n",
       "      <th>home_team_outcome</th>\n",
       "      <th>total_hits</th>\n",
       "    </tr>\n",
       "  </thead>\n",
       "  <tbody>\n",
       "    <tr>\n",
       "      <th>1413</th>\n",
       "      <td>1413</td>\n",
       "      <td>36253.0</td>\n",
       "      <td>Texas Rangers</td>\n",
       "      <td>0</td>\n",
       "      <td>16</td>\n",
       "      <td>5</td>\n",
       "      <td>2016-07-04</td>\n",
       "      <td>on grass</td>\n",
       "      <td>Day Game</td>\n",
       "      <td>Boston Red Sox</td>\n",
       "      <td>...</td>\n",
       "      <td>11.0</td>\n",
       "      <td>out to Centerfield</td>\n",
       "      <td>Cloudy</td>\n",
       "      <td>17</td>\n",
       "      <td>3.666667</td>\n",
       "      <td>regular season</td>\n",
       "      <td>1</td>\n",
       "      <td>0</td>\n",
       "      <td>Win</td>\n",
       "      <td>37</td>\n",
       "    </tr>\n",
       "  </tbody>\n",
       "</table>\n",
       "<p>1 rows × 27 columns</p>\n",
       "</div>"
      ],
      "text/plain": [
       "      Unnamed: 0  attendance      away_team  away_team_errors  away_team_hits  \\\n",
       "1413        1413     36253.0  Texas Rangers                 0              16   \n",
       "\n",
       "      away_team_runs        date field_type game_type       home_team  ...  \\\n",
       "1413               5  2016-07-04   on grass  Day Game  Boston Red Sox  ...   \n",
       "\n",
       "      wind_speed       wind_direction     sky total_runs game_hours_dec  \\\n",
       "1413        11.0   out to Centerfield  Cloudy         17       3.666667   \n",
       "\n",
       "              season  home_team_win  home_team_loss home_team_outcome  \\\n",
       "1413  regular season              1               0               Win   \n",
       "\n",
       "     total_hits  \n",
       "1413         37  \n",
       "\n",
       "[1 rows x 27 columns]"
      ]
     },
     "execution_count": 17,
     "metadata": {},
     "output_type": "execute_result"
    }
   ],
   "source": [
    "baseball_data['total_hits'] = baseball_data['home_team_hits'] + baseball_data['away_team_hits']\n",
    "baseball_data[baseball_data['total_hits']==baseball_data['total_hits'].max()]"
   ]
  },
  {
   "cell_type": "markdown",
   "metadata": {
    "collapsed": false,
    "pycharm": {
     "name": "#%% md\n"
    }
   },
   "source": [
    "# 13. Выведите количество игр которая сыграла каждая команда в данном сезоне?"
   ]
  },
  {
   "cell_type": "code",
   "execution_count": 18,
   "metadata": {
    "collapsed": false,
    "pycharm": {
     "name": "#%%\n"
    }
   },
   "outputs": [
    {
     "data": {
      "text/plain": [
       "home_team\n",
       "Arizona Diamondbacks             162\n",
       "Atlanta Braves                   161\n",
       "Baltimore Orioles                162\n",
       "Boston Red Sox                   162\n",
       "Chicago Cubs                     162\n",
       "Chicago White Sox                162\n",
       "Cincinnati Reds                  162\n",
       "Cleveland Indians                161\n",
       "Colorado Rockies                 162\n",
       "Detroit Tigers                   161\n",
       "Houston Astros                   162\n",
       "Kansas City Royals               162\n",
       "Los Angeles Angels of Anaheim    162\n",
       "Los Angeles Dodgers              162\n",
       "Miami Marlins                    161\n",
       "Milwaukee Brewers                162\n",
       "Minnesota Twins                  162\n",
       "New York Mets                    162\n",
       "New York Yankees                 162\n",
       "Oakland Athletics                162\n",
       "Philadelphia Phillies            162\n",
       "Pittsburgh Pirates               162\n",
       "San Diego Padres                 162\n",
       "San Francisco Giants             162\n",
       "Seattle Mariners                 162\n",
       "St. Louis Cardinals              162\n",
       "Tampa Bay Rays                   162\n",
       "Texas Rangers                    162\n",
       "Toronto Blue Jays                162\n",
       "Washington Nationals             162\n",
       "dtype: int64"
      ]
     },
     "execution_count": 18,
     "metadata": {},
     "output_type": "execute_result"
    }
   ],
   "source": [
    "season_baseball_data.groupby('home_team')['home_team'].count() + season_baseball_data.groupby('away_team')['away_team'].count()"
   ]
  },
  {
   "cell_type": "markdown",
   "metadata": {
    "collapsed": false,
    "pycharm": {
     "name": "#%% md\n"
    }
   },
   "source": [
    "# 14. Какая команда выиграла наибольшое количество матчей в сезоне? (Будьте внимательны с типом матча в сезоне - season)."
   ]
  },
  {
   "cell_type": "code",
   "execution_count": 19,
   "metadata": {
    "collapsed": false,
    "pycharm": {
     "name": "#%%\n"
    }
   },
   "outputs": [
    {
     "data": {
      "text/plain": [
       "'Chicago Cubs'"
      ]
     },
     "execution_count": 19,
     "metadata": {},
     "output_type": "execute_result"
    }
   ],
   "source": [
    "team_wins = season_baseball_data.groupby('home_team')['home_team_win'].sum() + season_baseball_data.groupby('away_team')['home_team_loss'].sum()\n",
    "team_wins.idxmax()"
   ]
  },
  {
   "cell_type": "markdown",
   "metadata": {
    "collapsed": false,
    "pycharm": {
     "name": "#%% md\n"
    }
   },
   "source": [
    "# 15. Какая команда выиграла наибольшее количество домашних матчей в сезоне?"
   ]
  },
  {
   "cell_type": "code",
   "execution_count": 20,
   "metadata": {
    "collapsed": false,
    "pycharm": {
     "name": "#%%\n"
    }
   },
   "outputs": [
    {
     "data": {
      "text/plain": [
       "'Chicago Cubs'"
      ]
     },
     "execution_count": 20,
     "metadata": {},
     "output_type": "execute_result"
    }
   ],
   "source": [
    "season_baseball_data.groupby('home_team')['home_team_win'].sum().idxmax()"
   ]
  },
  {
   "cell_type": "markdown",
   "metadata": {
    "collapsed": false,
    "pycharm": {
     "name": "#%% md\n"
    }
   },
   "source": [
    "# 16. Какая команда выиграла наибольшее количество гостевых матчей в сезоне?"
   ]
  },
  {
   "cell_type": "code",
   "execution_count": 21,
   "metadata": {
    "collapsed": false,
    "pycharm": {
     "name": "#%%\n"
    }
   },
   "outputs": [
    {
     "data": {
      "text/plain": [
       "'St. Louis Cardinals'"
      ]
     },
     "execution_count": 21,
     "metadata": {},
     "output_type": "execute_result"
    }
   ],
   "source": [
    "season_baseball_data.groupby('away_team')['home_team_loss'].sum().idxmax()"
   ]
  },
  {
   "cell_type": "markdown",
   "metadata": {
    "collapsed": false,
    "pycharm": {
     "name": "#%% md\n"
    }
   },
   "source": [
    "# 17. Какая команда проиграла наибольшее количество матчей в сезоне?"
   ]
  },
  {
   "cell_type": "code",
   "execution_count": 22,
   "metadata": {
    "collapsed": false,
    "pycharm": {
     "name": "#%%\n"
    }
   },
   "outputs": [
    {
     "data": {
      "text/plain": [
       "'Minnesota Twins'"
      ]
     },
     "execution_count": 22,
     "metadata": {},
     "output_type": "execute_result"
    }
   ],
   "source": [
    "team_loss = season_baseball_data.groupby('home_team')['home_team_loss'].sum() + season_baseball_data.groupby('away_team')['home_team_win'].sum()\n",
    "team_loss.idxmax()"
   ]
  },
  {
   "cell_type": "markdown",
   "metadata": {
    "collapsed": false,
    "pycharm": {
     "name": "#%% md\n"
    }
   },
   "source": [
    "# 18. Зависит ли выигрыш от количества посетителей матча? (https://pandas.pydata.org/docs/reference/api/pandas.DataFrame.cov.html)"
   ]
  },
  {
   "cell_type": "code",
   "execution_count": 23,
   "metadata": {
    "collapsed": false,
    "pycharm": {
     "name": "#%%\n"
    }
   },
   "outputs": [
    {
     "data": {
      "text/html": [
       "<div>\n",
       "<style scoped>\n",
       "    .dataframe tbody tr th:only-of-type {\n",
       "        vertical-align: middle;\n",
       "    }\n",
       "\n",
       "    .dataframe tbody tr th {\n",
       "        vertical-align: top;\n",
       "    }\n",
       "\n",
       "    .dataframe thead th {\n",
       "        text-align: right;\n",
       "    }\n",
       "</style>\n",
       "<table border=\"1\" class=\"dataframe\">\n",
       "  <thead>\n",
       "    <tr style=\"text-align: right;\">\n",
       "      <th></th>\n",
       "      <th>attendance</th>\n",
       "      <th>home_team_win</th>\n",
       "    </tr>\n",
       "  </thead>\n",
       "  <tbody>\n",
       "    <tr>\n",
       "      <th>attendance</th>\n",
       "      <td>1.000000</td>\n",
       "      <td>0.045631</td>\n",
       "    </tr>\n",
       "    <tr>\n",
       "      <th>home_team_win</th>\n",
       "      <td>0.045631</td>\n",
       "      <td>1.000000</td>\n",
       "    </tr>\n",
       "  </tbody>\n",
       "</table>\n",
       "</div>"
      ],
      "text/plain": [
       "               attendance  home_team_win\n",
       "attendance       1.000000       0.045631\n",
       "home_team_win    0.045631       1.000000"
      ]
     },
     "execution_count": 23,
     "metadata": {},
     "output_type": "execute_result"
    }
   ],
   "source": [
    "home_win = baseball_data[['attendance','home_team_win']]\n",
    "home_win.corr()"
   ]
  },
  {
   "cell_type": "code",
   "execution_count": 24,
   "metadata": {},
   "outputs": [
    {
     "data": {
      "text/html": [
       "<div>\n",
       "<style scoped>\n",
       "    .dataframe tbody tr th:only-of-type {\n",
       "        vertical-align: middle;\n",
       "    }\n",
       "\n",
       "    .dataframe tbody tr th {\n",
       "        vertical-align: top;\n",
       "    }\n",
       "\n",
       "    .dataframe thead th {\n",
       "        text-align: right;\n",
       "    }\n",
       "</style>\n",
       "<table border=\"1\" class=\"dataframe\">\n",
       "  <thead>\n",
       "    <tr style=\"text-align: right;\">\n",
       "      <th></th>\n",
       "      <th>attendance</th>\n",
       "      <th>home_team_loss</th>\n",
       "    </tr>\n",
       "  </thead>\n",
       "  <tbody>\n",
       "    <tr>\n",
       "      <th>attendance</th>\n",
       "      <td>1.000000</td>\n",
       "      <td>-0.044777</td>\n",
       "    </tr>\n",
       "    <tr>\n",
       "      <th>home_team_loss</th>\n",
       "      <td>-0.044777</td>\n",
       "      <td>1.000000</td>\n",
       "    </tr>\n",
       "  </tbody>\n",
       "</table>\n",
       "</div>"
      ],
      "text/plain": [
       "                attendance  home_team_loss\n",
       "attendance        1.000000       -0.044777\n",
       "home_team_loss   -0.044777        1.000000"
      ]
     },
     "execution_count": 24,
     "metadata": {},
     "output_type": "execute_result"
    }
   ],
   "source": [
    "away_win = baseball_data[['attendance','home_team_loss']]\n",
    "away_win.corr()"
   ]
  },
  {
   "cell_type": "markdown",
   "metadata": {},
   "source": [
    "Коэффициенты корреляции между посещением и победой/проигрышем домашней команды близки к нулю, следовательно зависимости выйгрыша от количества посетителей матча нет."
   ]
  },
  {
   "cell_type": "markdown",
   "metadata": {
    "collapsed": false,
    "pycharm": {
     "name": "#%% md\n"
    }
   },
   "source": [
    "# 19. Правда ли что большинство проигрышных домашних матчей приходятся на Субботу и Воскресенье?"
   ]
  },
  {
   "cell_type": "code",
   "execution_count": 27,
   "metadata": {},
   "outputs": [
    {
     "data": {
      "text/plain": [
       "day_of_week\n",
       "Sunday       190\n",
       "Tuesday      187\n",
       "Friday       184\n",
       "Saturday     175\n",
       "Wednesday    167\n",
       "Monday       131\n",
       "Thursday     124\n",
       "Name: home_team_loss, dtype: int64"
      ]
     },
     "execution_count": 27,
     "metadata": {},
     "output_type": "execute_result"
    }
   ],
   "source": [
    "baseball_data.groupby('day_of_week')['home_team_loss'].sum().sort_values(ascending = False)"
   ]
  },
  {
   "cell_type": "markdown",
   "metadata": {},
   "source": [
    "Мы получили, что большинство проигрышных домашних матчей приходится на воскресенье, вторник и пятницу. "
   ]
  },
  {
   "cell_type": "markdown",
   "metadata": {
    "collapsed": false,
    "pycharm": {
     "name": "#%% md\n"
    }
   },
   "source": [
    "# 20. Правда ли что наибольшее количество ранов происходит в холодную погоду? (Холодной погодой считается погода ниже 0 градусов)"
   ]
  },
  {
   "cell_type": "markdown",
   "metadata": {},
   "source": [
    "Т.к. температура в таблице в Форенгейтах (ноль Цельсия - 32 Форенгейта), сделаем колонку с порогом для отбора по температурному критерию."
   ]
  },
  {
   "cell_type": "code",
   "execution_count": 42,
   "metadata": {},
   "outputs": [],
   "source": [
    "def column_thresh(x, thresh = 32):\n",
    "    return 'Cold' if x < thresh else 'Warm'  "
   ]
  },
  {
   "cell_type": "code",
   "execution_count": 43,
   "metadata": {},
   "outputs": [
    {
     "data": {
      "text/html": [
       "<div>\n",
       "<style scoped>\n",
       "    .dataframe tbody tr th:only-of-type {\n",
       "        vertical-align: middle;\n",
       "    }\n",
       "\n",
       "    .dataframe tbody tr th {\n",
       "        vertical-align: top;\n",
       "    }\n",
       "\n",
       "    .dataframe thead th {\n",
       "        text-align: right;\n",
       "    }\n",
       "</style>\n",
       "<table border=\"1\" class=\"dataframe\">\n",
       "  <thead>\n",
       "    <tr style=\"text-align: right;\">\n",
       "      <th></th>\n",
       "      <th>Unnamed: 0</th>\n",
       "      <th>attendance</th>\n",
       "      <th>away_team</th>\n",
       "      <th>away_team_errors</th>\n",
       "      <th>away_team_hits</th>\n",
       "      <th>away_team_runs</th>\n",
       "      <th>date</th>\n",
       "      <th>field_type</th>\n",
       "      <th>game_type</th>\n",
       "      <th>home_team</th>\n",
       "      <th>...</th>\n",
       "      <th>wind_direction</th>\n",
       "      <th>sky</th>\n",
       "      <th>total_runs</th>\n",
       "      <th>game_hours_dec</th>\n",
       "      <th>season</th>\n",
       "      <th>home_team_win</th>\n",
       "      <th>home_team_loss</th>\n",
       "      <th>home_team_outcome</th>\n",
       "      <th>total_hits</th>\n",
       "      <th>temp_thresh</th>\n",
       "    </tr>\n",
       "  </thead>\n",
       "  <tbody>\n",
       "    <tr>\n",
       "      <th>2409</th>\n",
       "      <td>2409</td>\n",
       "      <td>32419.0</td>\n",
       "      <td>New York Yankees</td>\n",
       "      <td>1</td>\n",
       "      <td>13</td>\n",
       "      <td>8</td>\n",
       "      <td>2016-04-09</td>\n",
       "      <td>on grass</td>\n",
       "      <td>Day Game</td>\n",
       "      <td>Detroit Tigers</td>\n",
       "      <td>...</td>\n",
       "      <td>from Left to Right</td>\n",
       "      <td>Cloudy</td>\n",
       "      <td>12</td>\n",
       "      <td>3.333333</td>\n",
       "      <td>regular season</td>\n",
       "      <td>0</td>\n",
       "      <td>1</td>\n",
       "      <td>Loss</td>\n",
       "      <td>20</td>\n",
       "      <td>Cold</td>\n",
       "    </tr>\n",
       "  </tbody>\n",
       "</table>\n",
       "<p>1 rows × 28 columns</p>\n",
       "</div>"
      ],
      "text/plain": [
       "      Unnamed: 0  attendance         away_team  away_team_errors  \\\n",
       "2409        2409     32419.0  New York Yankees                 1   \n",
       "\n",
       "      away_team_hits  away_team_runs        date field_type game_type  \\\n",
       "2409              13               8  2016-04-09   on grass  Day Game   \n",
       "\n",
       "           home_team  ...       wind_direction     sky  total_runs  \\\n",
       "2409  Detroit Tigers  ...   from Left to Right  Cloudy          12   \n",
       "\n",
       "     game_hours_dec          season home_team_win  home_team_loss  \\\n",
       "2409       3.333333  regular season             0               1   \n",
       "\n",
       "      home_team_outcome total_hits temp_thresh  \n",
       "2409               Loss         20        Cold  \n",
       "\n",
       "[1 rows x 28 columns]"
      ]
     },
     "execution_count": 43,
     "metadata": {},
     "output_type": "execute_result"
    }
   ],
   "source": [
    "baseball_data['temp_thresh'] = baseball_data['temperature'].apply(column_thresh)\n",
    "baseball_data[baseball_data['temp_thresh'] == 'Cold']"
   ]
  },
  {
   "cell_type": "code",
   "execution_count": 44,
   "metadata": {},
   "outputs": [
    {
     "data": {
      "image/png": "[encoded data removed]",
      "text/plain": [
       "<Figure size 432x288 with 1 Axes>"
      ]
     },
     "metadata": {},
     "output_type": "display_data"
    }
   ],
   "source": [
    "sns.set_theme(style=\"whitegrid\")\n",
    "ax = sns.violinplot(x=\"temp_thresh\", y=\"total_runs\", data=baseball_data)"
   ]
  },
  {
   "cell_type": "markdown",
   "metadata": {},
   "source": [
    "Только один матч был в холодную погоду, количество ранов в нем было не наибольшим, но оно было больше чем медианное число ранов в теплую погоду, возможно, если добить статистикой за прошлые сезоны, можно более уверенно опровергнуть этот факт. "
   ]
  }
 ],
 "metadata": {
  "kernelspec": {
   "display_name": "Python 3.8.5 ('base')",
   "language": "python",
   "name": "python3"
  },
  "language_info": {
   "codemirror_mode": {
    "name": "ipython",
    "version": 3
   },
   "file_extension": ".py",
   "mimetype": "text/x-python",
   "name": "python",
   "nbconvert_exporter": "python",
   "pygments_lexer": "ipython3",
   "version": "3.8.5"
  },
  "vscode": {
   "interpreter": {
    "hash": "2dbf458290ec5c52c4548c005021f14c1e3b4d77d418a7c4e338cee2a72246b8"
   }
  }
 },
 "nbformat": 4,
 "nbformat_minor": 0
}
